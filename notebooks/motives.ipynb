{
 "cells": [
  {
   "cell_type": "markdown",
   "metadata": {},
   "source": [
    "# Motive Engine\n",
    "\n",
    "![](images/v3_slide0094_image039.gif)\n",
    "\n",
    "The Motive Engine is based on opposing weights. An object signals it's presence if the Sim's need is low. The need is the motive and that drives a Sims' decision. All games in the franchise are based on this dynamic at it's core. For example, if hunger is low then the fridge's presence is high and vice versa. A Sim's mood is the sum of the current state of their motives. They will only choose the fridge if it increases it's overall mood. The ML portion comes in deciding which has the priority.\n",
    "\n",
    "A Sim's motives decrease in increments and independently of each other during game play. They are randomized for this experiment. "
   ]
  },
  {
   "cell_type": "code",
   "execution_count": 1,
   "metadata": {
    "vscode": {
     "languageId": "csharp"
    }
   },
   "outputs": [
    {
     "data": {
      "text/html": [
       "\r\n",
       "<div>\r\n",
       "    <div id='dotnet-interactive-this-cell-$CACHE_BUSTER$' style='display: none'>\r\n",
       "        The below script needs to be able to find the current output cell; this is an easy method to get it.\r\n",
       "    </div>\r\n",
       "    <script type='text/javascript'>\r\n",
       "async function probeAddresses(probingAddresses) {\r\n",
       "    function timeout(ms, promise) {\r\n",
       "        return new Promise(function (resolve, reject) {\r\n",
       "            setTimeout(function () {\r\n",
       "                reject(new Error('timeout'))\r\n",
       "            }, ms)\r\n",
       "            promise.then(resolve, reject)\r\n",
       "        })\r\n",
       "    }\r\n",
       "\r\n",
       "    if (Array.isArray(probingAddresses)) {\r\n",
       "        for (let i = 0; i < probingAddresses.length; i++) {\r\n",
       "\r\n",
       "            let rootUrl = probingAddresses[i];\r\n",
       "\r\n",
       "            if (!rootUrl.endsWith('/')) {\r\n",
       "                rootUrl = `${rootUrl}/`;\r\n",
       "            }\r\n",
       "\r\n",
       "            try {\r\n",
       "                let response = await timeout(1000, fetch(`${rootUrl}discovery`, {\r\n",
       "                    method: 'POST',\r\n",
       "                    cache: 'no-cache',\r\n",
       "                    mode: 'cors',\r\n",
       "                    timeout: 1000,\r\n",
       "                    headers: {\r\n",
       "                        'Content-Type': 'text/plain'\r\n",
       "                    },\r\n",
       "                    body: probingAddresses[i]\r\n",
       "                }));\r\n",
       "\r\n",
       "                if (response.status == 200) {\r\n",
       "                    return rootUrl;\r\n",
       "                }\r\n",
       "            }\r\n",
       "            catch (e) { }\r\n",
       "        }\r\n",
       "    }\r\n",
       "}\r\n",
       "\r\n",
       "function loadDotnetInteractiveApi() {\r\n",
       "    probeAddresses([\"http://127.0.0.1:2050/\",\"http://::1:2050/\",\"http://fe80::1%1:2050/\",\"http://fe80::1467:f2a0:e0fc:a9b3%12:2050/\",\"http://fdfe:d3fb:eb68:c94a:1ce7:3ac9:c4e6:a546:2050/\",\"http://192.168.0.109:2050/\",\"http://fe80::c84:68ff:fe76:da63%14:2050/\",\"http://fe80::5068:7e96:c4ea:2f1c%16:2050/\",\"http://fe80::fc28:1db5:7f6a:1df%17:2050/\",\"http://fe80::ce81:b1c:bd2c:69e%18:2050/\",\"http://fe80::41dd:3afb:a34f:3105%19:2050/\",\"http://fe80::c056:3bfd:6030:2da6%20:2050/\",\"http://fe80::a74c:4602:22ac:8533%21:2050/\"])\r\n",
       "        .then((root) => {\r\n",
       "        // use probing to find host url and api resources\r\n",
       "        // load interactive helpers and language services\r\n",
       "        let dotnetInteractiveRequire = require.config({\r\n",
       "        context: '10508.Microsoft.DotNet.Interactive.Http.HttpPort',\r\n",
       "                paths:\r\n",
       "            {\r\n",
       "                'dotnet-interactive': `${root}resources`\r\n",
       "                }\r\n",
       "        }) || require;\r\n",
       "\r\n",
       "            window.dotnetInteractiveRequire = dotnetInteractiveRequire;\r\n",
       "\r\n",
       "            window.configureRequireFromExtension = function(extensionName, extensionCacheBuster) {\r\n",
       "                let paths = {};\r\n",
       "                paths[extensionName] = `${root}extensions/${extensionName}/resources/`;\r\n",
       "                \r\n",
       "                let internalRequire = require.config({\r\n",
       "                    context: extensionCacheBuster,\r\n",
       "                    paths: paths,\r\n",
       "                    urlArgs: `cacheBuster=${extensionCacheBuster}`\r\n",
       "                    }) || require;\r\n",
       "\r\n",
       "                return internalRequire\r\n",
       "            };\r\n",
       "        \r\n",
       "            dotnetInteractiveRequire([\r\n",
       "                    'dotnet-interactive/dotnet-interactive'\r\n",
       "                ],\r\n",
       "                function (dotnet) {\r\n",
       "                    dotnet.init(window);\r\n",
       "                },\r\n",
       "                function (error) {\r\n",
       "                    console.log(error);\r\n",
       "                }\r\n",
       "            );\r\n",
       "        })\r\n",
       "        .catch(error => {console.log(error);});\r\n",
       "    }\r\n",
       "\r\n",
       "// ensure `require` is available globally\r\n",
       "if ((typeof(require) !==  typeof(Function)) || (typeof(require.config) !== typeof(Function))) {\r\n",
       "    let require_script = document.createElement('script');\r\n",
       "    require_script.setAttribute('src', 'https://cdnjs.cloudflare.com/ajax/libs/require.js/2.3.6/require.min.js');\r\n",
       "    require_script.setAttribute('type', 'text/javascript');\r\n",
       "    \r\n",
       "    \r\n",
       "    require_script.onload = function() {\r\n",
       "        loadDotnetInteractiveApi();\r\n",
       "    };\r\n",
       "\r\n",
       "    document.getElementsByTagName('head')[0].appendChild(require_script);\r\n",
       "}\r\n",
       "else {\r\n",
       "    loadDotnetInteractiveApi();\r\n",
       "}\r\n",
       "\r\n",
       "    </script>\r\n",
       "</div>"
      ]
     },
     "metadata": {},
     "output_type": "display_data"
    }
   ],
   "source": [
    "using System.Linq;"
   ]
  },
  {
   "cell_type": "code",
   "execution_count": 2,
   "metadata": {
    "vscode": {
     "languageId": "csharp"
    }
   },
   "outputs": [],
   "source": [
    "const int NAX_MOOD = 600;\n",
    "const int MAX_MOTIVE = 100;"
   ]
  },
  {
   "cell_type": "code",
   "execution_count": 3,
   "metadata": {
    "vscode": {
     "languageId": "csharp"
    }
   },
   "outputs": [],
   "source": [
    "static int MaxLimit(this int val, int max)\n",
    "{\n",
    "    if (max < 0)\n",
    "        throw new ArgumentOutOfRangeException();\n",
    "\n",
    "    if (val >= max)\n",
    "        return max;\n",
    "\n",
    "    return val;\n",
    "}"
   ]
  },
  {
   "cell_type": "code",
   "execution_count": 4,
   "metadata": {
    "vscode": {
     "languageId": "csharp"
    }
   },
   "outputs": [],
   "source": [
    "class Motives\n",
    "{\n",
    "    public Motives(int hunger, int bladder, int fun, int energy, \n",
    "        int environment, int social)\n",
    "    {\n",
    "        Hunger = hunger;\n",
    "        Bladder = bladder;\n",
    "        Fun = fun;\n",
    "        Energy = energy;\n",
    "        Environment = environment;\n",
    "        Social = social;\n",
    "    }\n",
    "\n",
    "    public int Hunger { get; set; }\n",
    "    public int Bladder { get; set; }\n",
    "    public int Fun { get; set; }\n",
    "    public int Energy { get; set; }\n",
    "    public int Environment { get; set; }\n",
    "    public int Social { get; set; }\n",
    "\n",
    "    // The mood is the sum of all the motives.\n",
    "    // It deteremines the best course of action.\n",
    "    public int Mood\n",
    "    {\n",
    "        get\n",
    "        {\n",
    "            var curMood = new[] { Hunger, Bladder, Fun,\n",
    "                Social, Environment, Energy };\n",
    "\n",
    "            return curMood.Sum();\n",
    "        }\n",
    "    }\n",
    "\n",
    "    // In the game, this would increament gradually\n",
    "    // until it reaches it's max motive.\n",
    "    int CalcuateMotiveChange(int motive, int input)\n",
    "    {\n",
    "        var curMotive = motive;\n",
    "        var curMood = Mood;\n",
    "\n",
    "        // New motive equals the current motive plus the input\n",
    "        var newMotive = curMotive + input;\n",
    "\n",
    "        // New mood equals the new motive plus the current mood\n",
    "        var newMood = newMotive + curMood;\n",
    "\n",
    "        // Changed motive is the new motive with the limit\n",
    "        var changedMotive = newMotive.MaxLimit(MAX_MOTIVE);\n",
    "\n",
    "        // Does the new motive increase my current motive?\n",
    "        // Does the new motive increase my overall mood?\n",
    "        if (changedMotive >= curMotive && curMood <= NAX_MOOD \n",
    "            && changedMotive <= MAX_MOTIVE && curMood <= NAX_MOOD)\n",
    "            return changedMotive;\n",
    "        \n",
    "        // Fall back to the current movement\n",
    "        return curMotive;\n",
    "    }\n",
    "\n",
    "    public void ChangeHunger(int input)\n",
    "    {\n",
    "        Hunger = CalcuateMotiveChange(Hunger, input);\n",
    "    }\n",
    "\n",
    "    public void ChangeFun(int input)\n",
    "    {\n",
    "        Fun = CalcuateMotiveChange(Fun, input);\n",
    "    }\n",
    "\n",
    "    public void ChangeBladder(int input)\n",
    "    {\n",
    "        Bladder = CalcuateMotiveChange(Bladder, input);\n",
    "    }\n",
    "\n",
    "    public void ChangeSocial(int input)\n",
    "    {\n",
    "        Social = CalcuateMotiveChange(Social, input);\n",
    "    }\n",
    "\n",
    "    public void ChangeEnergy(int input)\n",
    "    {\n",
    "        Energy = CalcuateMotiveChange(Energy, input);\n",
    "    }\n",
    "\n",
    "    public void ChangeEnvironment(int input)\n",
    "    {\n",
    "        Environment = CalcuateMotiveChange(Environment, input);\n",
    "    }\n",
    "}"
   ]
  },
  {
   "cell_type": "code",
   "execution_count": 5,
   "metadata": {
    "vscode": {
     "languageId": "csharp"
    }
   },
   "outputs": [],
   "source": [
    "void PrintMotives(Motives motives)\n",
    "{\n",
    "    Console.WriteLine($\"Hunger: {motives.Hunger}{Environment.NewLine}\" +\n",
    "        $\"Fun: {motives.Fun}{Environment.NewLine}\" +\n",
    "        $\"Bladder: {motives.Bladder}{Environment.NewLine}\" +\n",
    "        $\"Social: {motives.Social}{Environment.NewLine}\" +\n",
    "        $\"Environment: {motives.Environment}\");\n",
    "    Console.WriteLine($\"Mood: {motives.Mood}\");\n",
    "}"
   ]
  },
  {
   "cell_type": "code",
   "execution_count": 6,
   "metadata": {
    "vscode": {
     "languageId": "csharp"
    }
   },
   "outputs": [
    {
     "name": "stdout",
     "output_type": "stream",
     "text": [
      "Hunger: 68\n",
      "Fun: 17\n",
      "Bladder: 66\n",
      "Social: 87\n",
      "Environment: 20\n",
      "Mood: 271\n"
     ]
    }
   ],
   "source": [
    "// Run this first\n",
    "var rng = new Random();\n",
    "\n",
    "var motives = new Motives(hunger: rng.Next(MAX_MOTIVE), \n",
    "bladder: rng.Next(MAX_MOTIVE), fun: rng.Next(MAX_MOTIVE), \n",
    "energy: rng.Next(MAX_MOTIVE),  environment: rng.Next(MAX_MOTIVE), \n",
    "social: rng.Next(MAX_MOTIVE));\n",
    "\n",
    "PrintMotives(motives);"
   ]
  },
  {
   "cell_type": "code",
   "execution_count": 7,
   "metadata": {
    "vscode": {
     "languageId": "csharp"
    }
   },
   "outputs": [
    {
     "name": "stdout",
     "output_type": "stream",
     "text": [
      "Hunger: 100\n",
      "Fun: 40\n",
      "Bladder: 100\n",
      "Social: 100\n",
      "Environment: 70\n",
      "Mood: 510\n"
     ]
    }
   ],
   "source": [
    "// Run this next\n",
    "var newRng = new Random();\n",
    "\n",
    "// Minimum random number is whatever the current motive is\n",
    "motives.ChangeHunger(newRng.Next(motives.Hunger, MAX_MOTIVE));\n",
    "motives.ChangeFun(newRng.Next(motives.Fun, MAX_MOTIVE));\n",
    "motives.ChangeSocial(newRng.Next(motives.Social, MAX_MOTIVE));\n",
    "motives.ChangeBladder(newRng.Next(motives.Bladder, MAX_MOTIVE));\n",
    "motives.ChangeEnergy(newRng.Next(motives.Energy, MAX_MOTIVE));\n",
    "motives.ChangeEnvironment(newRng.Next(motives.Environment, MAX_MOTIVE));\n",
    "\n",
    "PrintMotives(motives);"
   ]
  }
 ],
 "metadata": {
  "kernelspec": {
   "display_name": ".NET (C#)",
   "language": "C#",
   "name": ".net-csharp"
  },
  "language_info": {
   "file_extension": ".cs",
   "mimetype": "text/x-csharp",
   "name": "C#",
   "pygments_lexer": "csharp",
   "version": "13.0"
  }
 },
 "nbformat": 4,
 "nbformat_minor": 4
}
